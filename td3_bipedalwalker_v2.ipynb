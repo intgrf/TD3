{
 "cells": [
  {
   "cell_type": "markdown",
   "metadata": {},
   "source": [
    "## BipedalWalker-v2\n",
    "\n",
    "Для решения я использовала TD3.\n",
    "\n",
    "Сначала были попытки решить с помощью DDPG, но агент учился довольно долго"
   ]
  },
  {
   "cell_type": "code",
   "execution_count": 1,
   "metadata": {
    "colab": {},
    "colab_type": "code",
    "id": "pBbTqVIGKRh-"
   },
   "outputs": [],
   "source": [
    "import torch\n",
    "from torch import nn, optim\n",
    "import torch.nn.functional as F\n",
    "import numpy as np\n",
    "\n",
    "import random\n",
    "import copy\n",
    "import time\n",
    "\n",
    "import gym\n",
    "\n",
    "import matplotlib.pyplot as plt\n",
    "%matplotlib inline\n",
    "from IPython.display import clear_output\n",
    "from IPython.core.pylabtools import figsize"
   ]
  },
  {
   "cell_type": "markdown",
   "metadata": {},
   "source": [
    "Replay memory"
   ]
  },
  {
   "cell_type": "code",
   "execution_count": 2,
   "metadata": {
    "colab": {},
    "colab_type": "code",
    "id": "WFGAq6m3KRiD"
   },
   "outputs": [],
   "source": [
    "class Memory:\n",
    "    def __init__(self, capacity):\n",
    "        self.capacity = capacity\n",
    "        self.memory = []\n",
    "        self.position = 0\n",
    "        \n",
    "    def append(self, elem):\n",
    "        if len(self.memory) < self.capacity:\n",
    "            self.memory.append(elem)\n",
    "        self.memory[self.position] = elem\n",
    "        self.position = (self.position + 1) % self.capacity\n",
    "            \n",
    "    def get_minibatch(self, size):\n",
    "        return random.sample(self.memory, size)\n",
    "    \n",
    "    \n",
    "    def __len__(self):\n",
    "        return len(self.memory)"
   ]
  },
  {
   "cell_type": "markdown",
   "metadata": {},
   "source": [
    "Модели actor и critic"
   ]
  },
  {
   "cell_type": "code",
   "execution_count": 3,
   "metadata": {
    "colab": {},
    "colab_type": "code",
    "id": "fdffkxeoKRiI"
   },
   "outputs": [],
   "source": [
    "class Actor(nn.Module):\n",
    "    def __init__(self, state_size, action_size, max_action):\n",
    "        super(Actor, self).__init__()\n",
    "        self.max_action = max_action\n",
    "        \n",
    "        self.lin1 = nn.Linear(state_size, 400)\n",
    "        self.lin2 = nn.Linear(400, 300)\n",
    "        self.lin3 = nn.Linear(300, action_size)\n",
    "        \n",
    "    def forward(self, state):\n",
    "        x = F.relu(self.lin1(state))\n",
    "        x = F.relu(self.lin2(x))\n",
    "        x = torch.tanh(self.lin3(x)) * self.max_action\n",
    "        return x"
   ]
  },
  {
   "cell_type": "code",
   "execution_count": 4,
   "metadata": {
    "colab": {},
    "colab_type": "code",
    "id": "G81-dpdGKRiM"
   },
   "outputs": [],
   "source": [
    "class Critic(nn.Module):\n",
    "    def __init__(self, state_size, action_size):\n",
    "        super(Critic, self).__init__()\n",
    "        \n",
    "        self.lin1 = nn.Linear(state_size + action_size, 400)\n",
    "        self.lin2 = nn.Linear(400, 300)\n",
    "        self.lin3 = nn.Linear(300, 1)\n",
    "        \n",
    "    def forward(self, state, action):\n",
    "        x = torch.cat([state, action], 1)\n",
    "        \n",
    "        x = F.relu(self.lin1(x))\n",
    "        x = F.relu(self.lin2(x))\n",
    "        x = self.lin3(x)\n",
    "        return x"
   ]
  },
  {
   "cell_type": "markdown",
   "metadata": {},
   "source": [
    "----"
   ]
  },
  {
   "cell_type": "code",
   "execution_count": 5,
   "metadata": {
    "colab": {},
    "colab_type": "code",
    "id": "fWHup_soKRiQ"
   },
   "outputs": [],
   "source": [
    "def plot_reward(reward, max_episode, step):\n",
    "    plt.xlim(-10, max_episode // step)\n",
    "    plt.ylim(-300, 300)\n",
    "    plt.plot(reward)\n",
    "    plt.grid()\n",
    "    plt.show()\n",
    "    clear_output(wait=True)\n",
    "    time.sleep(1)"
   ]
  },
  {
   "cell_type": "code",
   "execution_count": 18,
   "metadata": {
    "colab": {},
    "colab_type": "code",
    "id": "symD-UjnKRiW"
   },
   "outputs": [],
   "source": [
    "class TD3:\n",
    "    def __init__(self, env_name):\n",
    "        self.env = gym.make(env_name)\n",
    "        self.state_size = self.env.observation_space.shape[0]\n",
    "        self.action_size = self.env.action_space.shape[0]\n",
    "        self.max_action = 1\n",
    "        \n",
    "        self.actor_lr  = 1e-3\n",
    "        self.critic_lr = 1e-3\n",
    "        self.batch_size = 100\n",
    "        \n",
    "        self.gamma = 0.99\n",
    "        self.tau = 1e-3\n",
    "        \n",
    "        self.policy_noise = 0.6\n",
    "        self.noise_clip = 0.7\n",
    "        self.policy_delay = 0.1\n",
    "        self.exploration_noise = 0.1\n",
    "        \n",
    "        self.max_episode = 750\n",
    "        self.max_step = 2000\n",
    "        self.exploit_episode = 10\n",
    "        self.target_update_step = 2\n",
    "        \n",
    "        self.memory_size = 1000000\n",
    "        \n",
    "        self.memory = Memory(self.memory_size)\n",
    "        self.device = torch.device('cuda')\n",
    "        \n",
    "        self.actor = Actor(self.state_size, self.action_size, self.max_action).to(self.device)\n",
    "        self.target_actor = copy.deepcopy(self.actor).to(self.device)\n",
    "        self.actor_optim = optim.Adam(self.actor.parameters(), lr=self.actor_lr)\n",
    "        \n",
    "        self.critic1 = Critic(self.state_size, self.action_size).to(self.device)\n",
    "        self.target_critic1 = copy.deepcopy(self.critic1).to(self.device)\n",
    "        self.critic_optim1 = optim.Adam(self.critic1.parameters(), lr=self.critic_lr)\n",
    "        \n",
    "        self.critic2 = Critic(self.state_size, self.action_size).to(self.device)\n",
    "        self.target_critic2 = copy.deepcopy(self.critic2).to(self.device)\n",
    "        self.critic_optim2 = optim.Adam(self.critic2.parameters(), lr=self.critic_lr)\n",
    "\n",
    "\n",
    "    def select_action(self, state):\n",
    "        state = torch.FloatTensor(state).unsqueeze(0).to(self.device)\n",
    "        action = self.actor(state).detach().cpu().numpy().flatten()\n",
    "        return action\n",
    "\n",
    "\n",
    "    def soft_update(self, model, target_model):\n",
    "        for param, target_param in zip(model.parameters(), target_model.parameters()):\n",
    "            target_param.data.copy_(((1 - self.tau) * target_param.data) + self.tau * param.data)\n",
    "\n",
    "\n",
    "    def optimize(self, batch):\n",
    "        state, action, reward, next_state, is_terminal = batch\n",
    "        \n",
    "        state = torch.tensor(state).to(self.device).float()\n",
    "        action = torch.tensor(action).to(self.device).float()\n",
    "        reward = torch.tensor(reward).unsqueeze(1).to(self.device).float()\n",
    "        next_state = torch.tensor(next_state).to(self.device).float()\n",
    "        is_terminal = torch.tensor(is_terminal).unsqueeze(1).to(self.device).float()\n",
    "\n",
    "        with torch.no_grad():\n",
    "            noise = torch.randn_like(action) * self.policy_noise\n",
    "            noise = noise.clamp(-self.noise_clip, self.noise_clip)\n",
    "\n",
    "            next_action = self.target_actor(next_state) + noise\n",
    "            next_action = next_action.clamp(-self.max_action, self.max_action)\n",
    "            \n",
    "            target_q1 = self.target_critic1(next_state, next_action)\n",
    "            target_q2 = self.target_critic2(next_state, next_action)\n",
    "        \n",
    "            target_q = torch.min(target_q1, target_q2)\n",
    "            target_q = reward + (1 - is_terminal) * self.gamma * target_q\n",
    "        \n",
    "        # optimize critics\n",
    "        q1 = self.critic1(state, action)\n",
    "        \n",
    "        critic_loss1 = F.mse_loss(q1, target_q)\n",
    "        self.critic_optim1.zero_grad()\n",
    "        critic_loss1.backward()\n",
    "        self.critic_optim1.step()\n",
    "        \n",
    "        q2 = self.critic2(state, action)\n",
    "\n",
    "        critic_loss2 = F.mse_loss(q2, target_q)\n",
    "        self.critic_optim2.zero_grad()\n",
    "        critic_loss2.backward()\n",
    "        self.critic_optim2.step()\n",
    "        \n",
    "        \n",
    "        if self.total_step % self.target_update_step == 0:\n",
    "            # optimize actor\n",
    "            actor_loss = - self.critic1(state, self.actor(state)).mean()\n",
    "            \n",
    "            self.actor_optim.zero_grad()\n",
    "            actor_loss.backward()\n",
    "            self.actor_optim.step()\n",
    "            \n",
    "            # make soft update\n",
    "            self.soft_update(self.actor, self.target_actor)\n",
    "            self.soft_update(self.critic1, self.target_critic1)\n",
    "            self.soft_update(self.critic2, self.target_critic2)\n",
    "\n",
    "\n",
    "    def exploit(self, render=True):\n",
    "        state = self.env.reset()\n",
    "        r = 0.\n",
    "        is_terminal = False\n",
    "        \n",
    "        while not is_terminal:\n",
    "            if render:\n",
    "                self.env.render()\n",
    "            action = self.select_action(state)\n",
    "            state, reward, is_terminal, _ = self.env.step(action)\n",
    "            r += reward\n",
    "        return r\n",
    "\n",
    "    \n",
    "    def train(self):\n",
    "        self.total_step = 0\n",
    "        self.explorer_reward = []\n",
    "        self.exploit_reward = []\n",
    "        for episode in range(1, self.max_episode+1):\n",
    "            state = self.env.reset()\n",
    "            cur_r = 0\n",
    "            for t in range(1, self.max_step+1):\n",
    "                self.total_step += 1\n",
    "                # exploration\n",
    "                # select action and add exploration noise\n",
    "                action = self.select_action(state)\n",
    "                action += np.random.normal(0, self.exploration_noise, size=self.action_size)\n",
    "                action = action.clip(-self.max_action, self.max_action)\n",
    "                \n",
    "                # execute action\n",
    "                next_state, reward, is_terminal, _ = self.env.step(action)\n",
    "                cur_r += reward\n",
    "                \n",
    "                # store transition in replay memory\n",
    "                self.memory.append((state, action, reward, next_state, is_terminal))\n",
    "\n",
    "                state = next_state\n",
    "\n",
    "                # optimize models\n",
    "                if self.total_step > self.batch_size:\n",
    "                    self.optimize(list(zip(*self.memory.get_minibatch(self.batch_size))))\n",
    "\n",
    "                if is_terminal:\n",
    "                    self.explorer_reward.append(cur_r)\n",
    "                    break\n",
    "            plot_reward(self.explorer_reward, self.max_episode, 1)\n",
    "            \n",
    "            # exploitation\n",
    "            if episode % self.exploit_episode == 0:\n",
    "                r = self.exploit(render=False)\n",
    "                self.exploit_reward.append(r)\n",
    "                print(r)\n",
    "                # plot_reward(exploit_reward, self.max_episode, self.exploit_episode)\n",
    "\n",
    "        return self.explorer_reward, self.exploit_reward"
   ]
  },
  {
   "cell_type": "markdown",
   "metadata": {},
   "source": [
    "Обучение:"
   ]
  },
  {
   "cell_type": "code",
   "execution_count": 19,
   "metadata": {
    "colab": {
     "base_uri": "https://localhost:8080/",
     "height": 306
    },
    "colab_type": "code",
    "id": "qOvqTLiAKRia",
    "outputId": "26ce2f88-1fa4-42c3-fe66-93bed16cf5f5"
   },
   "outputs": [],
   "source": [
    "agent = TD3('BipedalWalker-v2')"
   ]
  },
  {
   "cell_type": "code",
   "execution_count": 20,
   "metadata": {
    "colab": {},
    "colab_type": "code",
    "id": "vusmA4sRKRif",
    "outputId": "ed5ff6d3-dbd3-4f5c-de60-723d027c548c"
   },
   "outputs": [
    {
     "name": "stdout",
     "output_type": "stream",
     "text": [
      "281.70940732036985\n"
     ]
    }
   ],
   "source": [
    "explorer_reward, exploit_reward = agent.train()"
   ]
  },
  {
   "cell_type": "markdown",
   "metadata": {},
   "source": [
    "------------\n",
    "Exploration reward:"
   ]
  },
  {
   "cell_type": "code",
   "execution_count": 21,
   "metadata": {},
   "outputs": [
    {
     "data": {
      "text/plain": [
       "[<matplotlib.lines.Line2D at 0x7fd4a9dd9a58>]"
      ]
     },
     "execution_count": 21,
     "metadata": {},
     "output_type": "execute_result"
    },
    {
     "data": {
      "image/png": "[encoded data removed]",
      "text/plain": [
       "<Figure size 432x288 with 1 Axes>"
      ]
     },
     "metadata": {
      "needs_background": "light"
     },
     "output_type": "display_data"
    }
   ],
   "source": [
    "plt.plot(explorer_reward)"
   ]
  },
  {
   "cell_type": "markdown",
   "metadata": {},
   "source": [
    "Exploitation reward:"
   ]
  },
  {
   "cell_type": "code",
   "execution_count": 22,
   "metadata": {},
   "outputs": [
    {
     "data": {
      "text/plain": [
       "[<matplotlib.lines.Line2D at 0x7fd4a9e78f98>]"
      ]
     },
     "execution_count": 22,
     "metadata": {},
     "output_type": "execute_result"
    },
    {
     "data": {
      "image/png": "[encoded data removed]",
      "text/plain": [
       "<Figure size 432x288 with 1 Axes>"
      ]
     },
     "metadata": {
      "needs_background": "light"
     },
     "output_type": "display_data"
    }
   ],
   "source": [
    "plt.plot(exploit_reward)"
   ]
  },
  {
   "cell_type": "markdown",
   "metadata": {},
   "source": [
    "Средний реворд за 100 эпизодов:"
   ]
  },
  {
   "cell_type": "code",
   "execution_count": 23,
   "metadata": {},
   "outputs": [
    {
     "name": "stdout",
     "output_type": "stream",
     "text": [
      "avg reward: 276.6987062274862\n"
     ]
    }
   ],
   "source": [
    "test_reward = []\n",
    "n_steps = 100\n",
    "for i in range(1, n_steps+1):\n",
    "    r = agent.exploit(render=False)\n",
    "    test_reward.append(r)\n",
    "    \n",
    "print('avg reward: {}'.format(sum(test_reward)/(n_steps+1)))"
   ]
  },
  {
   "cell_type": "code",
   "execution_count": null,
   "metadata": {},
   "outputs": [],
   "source": []
  }
 ],
 "metadata": {
  "accelerator": "GPU",
  "colab": {
   "collapsed_sections": [],
   "name": "td3-bipedalwalker-v2.ipynb",
   "provenance": []
  },
  "kernelspec": {
   "display_name": "Python 3",
   "language": "python",
   "name": "python3"
  },
  "language_info": {
   "codemirror_mode": {
    "name": "ipython",
    "version": 3
   },
   "file_extension": ".py",
   "mimetype": "text/x-python",
   "name": "python",
   "nbconvert_exporter": "python",
   "pygments_lexer": "ipython3",
   "version": "3.6.9"
  }
 },
 "nbformat": 4,
 "nbformat_minor": 1
}
